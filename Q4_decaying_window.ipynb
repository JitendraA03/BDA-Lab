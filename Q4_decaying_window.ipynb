{
 "cells": [
  {
   "cell_type": "code",
   "execution_count": 2,
   "metadata": {},
   "outputs": [],
   "source": [
    "import praw\n",
    "from datetime import datetime, timedelta, timezone\n",
    "import math"
   ]
  },
  {
   "cell_type": "code",
   "execution_count": 3,
   "metadata": {
    "tags": [
     "parameters"
    ]
   },
   "outputs": [],
   "source": [
    "client_id = \"e8O8uDpRkFbES6y2ZA9XwQ\"\n",
    "client_secret=\"5LSSWHnkHVM5-BIkxpgYlu8fKIqnzw\"\n",
    "user_agent = \"Decaying Window\""
   ]
  },
  {
   "cell_type": "code",
   "execution_count": 4,
   "metadata": {},
   "outputs": [],
   "source": [
    "\n",
    "reddit = praw.Reddit(\n",
    "    client_id=client_id,\n",
    "    client_secret=client_secret,\n",
    "    user_agent=user_agent\n",
    ")"
   ]
  },
  {
   "cell_type": "code",
   "execution_count": 5,
   "metadata": {},
   "outputs": [],
   "source": [
    "def calculate_score(interactions, time_weight):\n",
    "    \"\"\"\n",
    "    Calculate the score of a post based on its interactions and time weight.\n",
    "    \"\"\"\n",
    "    return interactions * time_weight"
   ]
  },
  {
   "cell_type": "code",
   "execution_count": 6,
   "metadata": {},
   "outputs": [],
   "source": [
    "def find_popular_posts(c, threshold, subreddit_name, time_window_hours):\n",
    "    \"\"\"\n",
    "    Find popular posts in a subreddit within a specified time window.\n",
    "    \"\"\"\n",
    "    subreddit = reddit.subreddit(subreddit_name)\n",
    "\n",
    "    if time_window_hours <= 1:\n",
    "        time_filter = 'hour'\n",
    "    elif time_window_hours <= 24:\n",
    "        time_filter = 'day'\n",
    "    elif time_window_hours <= 168:\n",
    "        time_filter = 'week'\n",
    "    elif time_window_hours <= 720:\n",
    "        time_filter = 'month'\n",
    "    else:\n",
    "        time_filter = 'year'\n",
    "\n",
    "    current_time = datetime.now(timezone.utc)\n",
    "    start_time = current_time - timedelta(hours=time_window_hours)\n",
    "\n",
    "    popular_posts = []\n",
    "\n",
    "    for post in subreddit.top(time_filter=time_filter, limit=None):\n",
    "        post_time = datetime.fromtimestamp(post.created_utc, tz=timezone.utc)\n",
    "        if post_time >= start_time:\n",
    "            time_weight = math.ceil((1 - c) ** ((current_time - post_time).total_seconds() / 3600 + 1))\n",
    "            score = calculate_score(post.score, time_weight)\n",
    "            if score >= threshold:\n",
    "                popular_posts.append((post.title, score))\n",
    "\n",
    "    popular_posts.sort(key=lambda x: x[1], reverse=True)\n",
    "    return popular_posts"
   ]
  },
  {
   "cell_type": "code",
   "execution_count": 10,
   "metadata": {
    "tags": [
     "parameters"
    ]
   },
   "outputs": [],
   "source": [
    "c = 1e-6\n",
    "threshold = 10\n",
    "subreddit_name = 'philosophy'\n",
    "time_window_hours = 51"
   ]
  },
  {
   "cell_type": "code",
   "execution_count": 11,
   "metadata": {},
   "outputs": [],
   "source": [
    "popular_posts = find_popular_posts(c, threshold, subreddit_name, time_window_hours)"
   ]
  },
  {
   "cell_type": "code",
   "execution_count": 12,
   "metadata": {},
   "outputs": [
    {
     "name": "stdout",
     "output_type": "stream",
     "text": [
      "Popular posts in r/philosophy within the last 51 hour(s):\n",
      "1. Over-enthusiasm for AI is born out of a misguided hope of \"democratizing\" intelligence - Score: 520\n",
      "2. Quick introduction to how 6 major philosophies (Aristotle, Epicurus, the Stoics, the Buddha, Confucianism, and Existentialism) define and approach the good life, with links to further reading - Score: 78\n",
      "3. How it would feel to be a rat under remote control: analyzing a breakdown of the connection between mind and body - Score: 40\n",
      "4. Philosophy of mathematics: Structuralism - Joel David Hamkins - Score: 33\n",
      "5. In sections 1 and 2 of Being and Time, Martin Heidegger explores why it is important to try to uncover the meaning of Being and the way in which its investigation should be structured, introducing his infamous concept of Dasein in the process - Score: 13\n"
     ]
    }
   ],
   "source": [
    "print(f\"Popular posts in r/{subreddit_name} within the last {time_window_hours} hour(s):\")\n",
    "for i, (title, score) in enumerate(popular_posts, start=1):\n",
    "    print(f\"{i}. {title} - Score: {score}\")"
   ]
  }
 ],
 "metadata": {
  "kernelspec": {
   "display_name": "BDA",
   "language": "python",
   "name": "python3"
  },
  "language_info": {
   "codemirror_mode": {
    "name": "ipython",
    "version": 3
   },
   "file_extension": ".py",
   "mimetype": "text/x-python",
   "name": "python",
   "nbconvert_exporter": "python",
   "pygments_lexer": "ipython3",
   "version": "3.11.0"
  }
 },
 "nbformat": 4,
 "nbformat_minor": 2
}
